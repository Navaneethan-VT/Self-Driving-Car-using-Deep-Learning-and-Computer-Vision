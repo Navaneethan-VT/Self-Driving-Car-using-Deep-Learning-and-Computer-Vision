{
  "nbformat": 4,
  "nbformat_minor": 0,
  "metadata": {
    "colab": {
      "name": "Self-Driving Car using Deep-Learning and Computer Vision.ipynb",
      "provenance": []
    },
    "kernelspec": {
      "name": "python3",
      "display_name": "Python 3"
    }
  },
  "cells": [
    {
      "cell_type": "code",
      "metadata": {
        "id": "XP0gAHKzak42"
      },
      "source": [
        "!git clone https://github.com/rslim087a/track"
      ],
      "execution_count": null,
      "outputs": []
    },
    {
      "cell_type": "code",
      "metadata": {
        "id": "foSDRwcDGmIv"
      },
      "source": [
        "!ls track"
      ],
      "execution_count": null,
      "outputs": []
    },
    {
      "cell_type": "code",
      "metadata": {
        "id": "52hUK1U9GmXu"
      },
      "source": [
        "!pip3 install imgaug"
      ],
      "execution_count": null,
      "outputs": []
    },
    {
      "cell_type": "code",
      "metadata": {
        "id": "vMZFQllgGmah"
      },
      "source": [
        "import os\r\n",
        "import numpy as np\r\n",
        "import matplotlib.pyplot as plt\r\n",
        "import matplotlib.image as mpimg\r\n",
        "import keras\r\n",
        "from keras.models import Sequential\r\n",
        "from keras.optimizers import Adam\r\n",
        "from keras.layers import Conv2D, MaxPooling2D, Dropout, Flatten, Dense\r\n",
        "from sklearn.utils import shuffle\r\n",
        "from sklearn.model_selection import train_test_split\r\n",
        "from imgaug import augmenters as iaa\r\n",
        "import cv2\r\n",
        "import pandas as pd\r\n",
        "import ntpath\r\n",
        "import random"
      ],
      "execution_count": null,
      "outputs": []
    },
    {
      "cell_type": "code",
      "metadata": {
        "id": "a3JxQFE3GmdZ"
      },
      "source": [
        "datadir = 'track'\r\n",
        "columns = ['center', 'left', 'right', 'steering', 'throttle', 'reverse', 'speed']\r\n",
        "data = pd.read_csv(os.path.join(datadir, 'driving_log.csv'), names = columns)\r\n",
        "pd.set_option('display.max_colwidth', -1)\r\n",
        "data.head()"
      ],
      "execution_count": null,
      "outputs": []
    },
    {
      "cell_type": "code",
      "metadata": {
        "id": "q55p52W7Gmf6"
      },
      "source": [
        "def path_leaf(path):\r\n",
        "  head, tail = ntpath.split(path)\r\n",
        "  return tail\r\n",
        "data['center'] = data['center'].apply(path_leaf)\r\n",
        "data['left'] = data['left'].apply(path_leaf)\r\n",
        "data['right'] = data['right'].apply(path_leaf)\r\n",
        "data.head()"
      ],
      "execution_count": null,
      "outputs": []
    },
    {
      "cell_type": "code",
      "metadata": {
        "id": "cZrl1PqRGmis"
      },
      "source": [
        "num_bins = 25\r\n",
        "samples_per_bin = 400\r\n",
        "hist, bins = np.histogram(data['steering'], num_bins)\r\n",
        "center = (bins[:-1]+ bins[1:]) * 0.5\r\n",
        "plt.bar(center, hist, width=0.05)\r\n",
        "plt.plot((np.min(data['steering']), np.max(data['steering'])), (samples_per_bin, samples_per_bin))"
      ],
      "execution_count": null,
      "outputs": []
    },
    {
      "cell_type": "code",
      "metadata": {
        "id": "0wN0Y3y2Gmlx"
      },
      "source": [
        "print('total data:', len(data))\r\n",
        "remove_list = []\r\n",
        "for j in range(num_bins):\r\n",
        "  list_ = []\r\n",
        "  for i in range(len(data['steering'])):\r\n",
        "    if data['steering'][i] >= bins[j] and data['steering'][i] <= bins[j+1]:\r\n",
        "      list_.append(i)\r\n",
        "  list_ = shuffle(list_)\r\n",
        "  list_ = list_[samples_per_bin:]\r\n",
        "  remove_list.extend(list_)\r\n",
        " \r\n",
        "print('removed:', len(remove_list))\r\n",
        "data.drop(data.index[remove_list], inplace=True)\r\n",
        "print('remaining:', len(data))\r\n",
        " \r\n",
        "hist, _ = np.histogram(data['steering'], (num_bins))\r\n",
        "plt.bar(center, hist, width=0.05)\r\n",
        "plt.plot((np.min(data['steering']), np.max(data['steering'])), (samples_per_bin, samples_per_bin))"
      ],
      "execution_count": null,
      "outputs": []
    },
    {
      "cell_type": "code",
      "metadata": {
        "id": "aEyd2O7BGmok"
      },
      "source": [
        "print(data.iloc[1])\r\n",
        "def load_img_steering(datadir, df):\r\n",
        "  image_path = []\r\n",
        "  steering = []\r\n",
        "  for i in range(len(data)):\r\n",
        "    indexed_data = data.iloc[i]\r\n",
        "    center, left, right = indexed_data[0], indexed_data[1], indexed_data[2]\r\n",
        "    image_path.append(os.path.join(datadir, center.strip()))\r\n",
        "    steering.append(float(indexed_data[3]))\r\n",
        "    # left image append\r\n",
        "    image_path.append(os.path.join(datadir,left.strip()))\r\n",
        "    steering.append(float(indexed_data[3])+0.15)\r\n",
        "    # right image append\r\n",
        "    image_path.append(os.path.join(datadir,right.strip()))\r\n",
        "    steering.append(float(indexed_data[3])-0.15)\r\n",
        "  image_paths = np.asarray(image_path)\r\n",
        "  steerings = np.asarray(steering)\r\n",
        "  return image_paths, steerings\r\n",
        " \r\n",
        "image_paths, steerings = load_img_steering(datadir + '/IMG', data)"
      ],
      "execution_count": null,
      "outputs": []
    },
    {
      "cell_type": "code",
      "metadata": {
        "colab": {
          "base_uri": "https://localhost:8080/"
        },
        "id": "ncdKqDlCGmrb",
        "outputId": "1692a59b-7e64-4fd4-f4c1-30766bc7fe91"
      },
      "source": [
        "X_train, X_valid, y_train, y_valid = train_test_split(image_paths, steerings, test_size=0.2, random_state=6)\r\n",
        "print('Training Samples: {}\\nValid Samples: {}'.format(len(X_train), len(X_valid)))"
      ],
      "execution_count": 10,
      "outputs": [
        {
          "output_type": "stream",
          "text": [
            "Training Samples: 3511\n",
            "Valid Samples: 878\n"
          ],
          "name": "stdout"
        }
      ]
    },
    {
      "cell_type": "code",
      "metadata": {
        "id": "p35JHBK6GmuU"
      },
      "source": [
        "fig, axes = plt.subplots(1, 2, figsize=(12, 4))\r\n",
        "axes[0].hist(y_train, bins=num_bins, width=0.05, color='blue')\r\n",
        "axes[0].set_title('Training set')\r\n",
        "axes[1].hist(y_valid, bins=num_bins, width=0.05, color='red')\r\n",
        "axes[1].set_title('Validation set')"
      ],
      "execution_count": null,
      "outputs": []
    },
    {
      "cell_type": "code",
      "metadata": {
        "id": "u8Cuq8fdHH_6"
      },
      "source": [
        "def zoom(image):\r\n",
        "  zoom = iaa.Affine(scale=(1, 1.3))\r\n",
        "  image = zoom.augment_image(image)\r\n",
        "  return image"
      ],
      "execution_count": 12,
      "outputs": []
    },
    {
      "cell_type": "code",
      "metadata": {
        "id": "NBuJXcNdHICY"
      },
      "source": [
        "image = image_paths[random.randint(0, 1000)]\r\n",
        "original_image = mpimg.imread(image)\r\n",
        "zoomed_image = zoom(original_image)\r\n",
        " \r\n",
        "fig, axs = plt.subplots(1, 2, figsize=(15, 10))\r\n",
        "fig.tight_layout()\r\n",
        " \r\n",
        "axs[0].imshow(original_image)\r\n",
        "axs[0].set_title('Original Image')\r\n",
        " \r\n",
        "axs[1].imshow(zoomed_image)\r\n",
        "axs[1].set_title('Zoomed Image')"
      ],
      "execution_count": null,
      "outputs": []
    },
    {
      "cell_type": "code",
      "metadata": {
        "id": "DU_cPWruHIFH"
      },
      "source": [
        "def pan(image):\r\n",
        "  pan = iaa.Affine(translate_percent= {\"x\" : (-0.1, 0.1), \"y\": (-0.1, 0.1)})\r\n",
        "  image = pan.augment_image(image)\r\n",
        "  return image"
      ],
      "execution_count": 14,
      "outputs": []
    },
    {
      "cell_type": "code",
      "metadata": {
        "id": "YoWdLgtmHIIF"
      },
      "source": [
        "image = image_paths[random.randint(0, 1000)]\r\n",
        "original_image = mpimg.imread(image)\r\n",
        "panned_image = pan(original_image)\r\n",
        " \r\n",
        "fig, axs = plt.subplots(1, 2, figsize=(15, 10))\r\n",
        "fig.tight_layout()\r\n",
        " \r\n",
        "axs[0].imshow(original_image)\r\n",
        "axs[0].set_title('Original Image')\r\n",
        " \r\n",
        "axs[1].imshow(panned_image)\r\n",
        "axs[1].set_title('Panned Image')"
      ],
      "execution_count": null,
      "outputs": []
    },
    {
      "cell_type": "code",
      "metadata": {
        "id": "vd8sY-HFHIK_"
      },
      "source": [
        "def img_random_brightness(image):\r\n",
        "    brightness = iaa.Multiply((0.2, 1.2))\r\n",
        "    image = brightness.augment_image(image)\r\n",
        "    return image"
      ],
      "execution_count": 16,
      "outputs": []
    },
    {
      "cell_type": "code",
      "metadata": {
        "id": "xoOXkZxLHIN6"
      },
      "source": [
        "image = image_paths[random.randint(0, 1000)]\r\n",
        "original_image = mpimg.imread(image)\r\n",
        "brightness_altered_image = img_random_brightness(original_image)\r\n",
        " \r\n",
        "fig, axs = plt.subplots(1, 2, figsize=(15, 10))\r\n",
        "fig.tight_layout()\r\n",
        " \r\n",
        "axs[0].imshow(original_image)\r\n",
        "axs[0].set_title('Original Image')\r\n",
        " \r\n",
        "axs[1].imshow(brightness_altered_image)\r\n",
        "axs[1].set_title('Brightness altered image ')"
      ],
      "execution_count": null,
      "outputs": []
    },
    {
      "cell_type": "code",
      "metadata": {
        "id": "_t_akAB2HIQ-"
      },
      "source": [
        "def img_random_flip(image, steering_angle):\r\n",
        "    image = cv2.flip(image,1)\r\n",
        "    steering_angle = -steering_angle\r\n",
        "    return image, steering_angle"
      ],
      "execution_count": 18,
      "outputs": []
    },
    {
      "cell_type": "code",
      "metadata": {
        "id": "eH7pv3alHITs"
      },
      "source": [
        "random_index = random.randint(0, 1000)\r\n",
        "image = image_paths[random_index]\r\n",
        "steering_angle = steerings[random_index]\r\n",
        " \r\n",
        " \r\n",
        "original_image = mpimg.imread(image)\r\n",
        "flipped_image, flipped_steering_angle = img_random_flip(original_image, steering_angle)\r\n",
        " \r\n",
        "fig, axs = plt.subplots(1, 2, figsize=(15, 10))\r\n",
        "fig.tight_layout()\r\n",
        " \r\n",
        "axs[0].imshow(original_image)\r\n",
        "axs[0].set_title('Original Image - ' + 'Steering Angle:' + str(steering_angle))\r\n",
        " \r\n",
        "axs[1].imshow(flipped_image)\r\n",
        "axs[1].set_title('Flipped Image - ' + 'Steering Angle:' + str(flipped_steering_angle))"
      ],
      "execution_count": null,
      "outputs": []
    },
    {
      "cell_type": "code",
      "metadata": {
        "id": "2-h47YrrHIWZ"
      },
      "source": [
        "def random_augment(image, steering_angle):\r\n",
        "    image = mpimg.imread(image)\r\n",
        "    if np.random.rand() < 0.5:\r\n",
        "      image = pan(image)\r\n",
        "    if np.random.rand() < 0.5:\r\n",
        "      image = zoom(image)\r\n",
        "    if np.random.rand() < 0.5:\r\n",
        "      image = img_random_brightness(image)\r\n",
        "    if np.random.rand() < 0.5:\r\n",
        "      image, steering_angle = img_random_flip(image, steering_angle)\r\n",
        "    \r\n",
        "    return image, steering_angle"
      ],
      "execution_count": 20,
      "outputs": []
    },
    {
      "cell_type": "code",
      "metadata": {
        "id": "Tpy7w04HH8Rq"
      },
      "source": [
        "ncol = 2\r\n",
        "nrow = 10\r\n",
        " \r\n",
        "fig, axs = plt.subplots(nrow, ncol, figsize=(15, 50))\r\n",
        "fig.tight_layout()\r\n",
        " \r\n",
        "for i in range(10):\r\n",
        "  randnum = random.randint(0, len(image_paths) - 1)\r\n",
        "  random_image = image_paths[randnum]\r\n",
        "  random_steering = steerings[randnum]\r\n",
        "    \r\n",
        "  original_image = mpimg.imread(random_image)\r\n",
        "  augmented_image, steering = random_augment(random_image, random_steering)\r\n",
        "    \r\n",
        "  axs[i][0].imshow(original_image)\r\n",
        "  axs[i][0].set_title(\"Original Image\")\r\n",
        "  \r\n",
        "  axs[i][1].imshow(augmented_image)\r\n",
        "  axs[i][1].set_title(\"Augmented Image\")"
      ],
      "execution_count": null,
      "outputs": []
    },
    {
      "cell_type": "code",
      "metadata": {
        "id": "RSV8IhIVIApK"
      },
      "source": [
        "def img_preprocess(img):\r\n",
        "    img = img[60:135,:,:]\r\n",
        "    img = cv2.cvtColor(img, cv2.COLOR_RGB2YUV)\r\n",
        "    img = cv2.GaussianBlur(img,  (3, 3), 0)\r\n",
        "    img = cv2.resize(img, (200, 66))\r\n",
        "    img = img/255\r\n",
        "    return img\r\n",
        "image = image_paths[100]\r\n",
        "original_image = mpimg.imread(image)\r\n",
        "preprocessed_image = img_preprocess(original_image)\r\n",
        " \r\n",
        "fig, axs = plt.subplots(1, 2, figsize=(15, 10))\r\n",
        "fig.tight_layout()\r\n",
        "axs[0].imshow(original_image)\r\n",
        "axs[0].set_title('Original Image')\r\n",
        "axs[1].imshow(preprocessed_image)\r\n",
        "axs[1].set_title('Preprocessed Image')\r\n",
        "def batch_generator(image_paths, steering_ang, batch_size, istraining):\r\n",
        "  \r\n",
        "  while True:\r\n",
        "    batch_img = []\r\n",
        "    batch_steering = []\r\n",
        "    \r\n",
        "    for i in range(batch_size):\r\n",
        "      random_index = random.randint(0, len(image_paths) - 1)\r\n",
        "      \r\n",
        "      if istraining:\r\n",
        "        im, steering = random_augment(image_paths[random_index], steering_ang[random_index])\r\n",
        "     \r\n",
        "      else:\r\n",
        "        im = mpimg.imread(image_paths[random_index])\r\n",
        "        steering = steering_ang[random_index]\r\n",
        "      \r\n",
        "      im = img_preprocess(im)\r\n",
        "      batch_img.append(im)\r\n",
        "      batch_steering.append(steering)\r\n",
        "    yield (np.asarray(batch_img), np.asarray(batch_steering))"
      ],
      "execution_count": null,
      "outputs": []
    },
    {
      "cell_type": "code",
      "metadata": {
        "id": "rDngbizMIAlg"
      },
      "source": [
        "x_train_gen, y_train_gen = next(batch_generator(X_train, y_train, 1, 1))\r\n",
        "x_valid_gen, y_valid_gen = next(batch_generator(X_valid, y_valid, 1, 0))\r\n",
        " \r\n",
        "fig, axs = plt.subplots(1, 2, figsize=(15, 10))\r\n",
        "fig.tight_layout()\r\n",
        " \r\n",
        "axs[0].imshow(x_train_gen[0])\r\n",
        "axs[0].set_title('Training Image')\r\n",
        " \r\n",
        "axs[1].imshow(x_valid_gen[0])\r\n",
        "axs[1].set_title('Validation Image')"
      ],
      "execution_count": null,
      "outputs": []
    },
    {
      "cell_type": "code",
      "metadata": {
        "id": "v41QrH_DIAi4"
      },
      "source": [
        "def nvidia_model():\r\n",
        "  model = Sequential()\r\n",
        "  model.add(Conv2D(24, 5, 5, subsample=(2, 2), input_shape=(66, 200, 3), activation='elu'))\r\n",
        "  model.add(Conv2D(36, 5, 5, subsample=(2, 2), activation='elu'))\r\n",
        "  model.add(Conv2D(48, 5, 5, subsample=(2, 2), activation='elu'))\r\n",
        "  model.add(Conv2D(64, 3, 3, activation='elu'))\r\n",
        "  \r\n",
        "  model.add(Conv2D(64, 3, 3, activation='elu'))\r\n",
        "#   model.add(Dropout(0.5))\r\n",
        "  \r\n",
        "  \r\n",
        "  model.add(Flatten())\r\n",
        "  \r\n",
        "  model.add(Dense(100, activation = 'elu'))\r\n",
        "#   model.add(Dropout(0.5))\r\n",
        "  \r\n",
        "  model.add(Dense(50, activation = 'elu'))\r\n",
        "#   model.add(Dropout(0.5))\r\n",
        "  \r\n",
        "  model.add(Dense(10, activation = 'elu'))\r\n",
        "#   model.add(Dropout(0.5))\r\n",
        " \r\n",
        "  model.add(Dense(1))\r\n",
        "  \r\n",
        "  optimizer = Adam(lr=1e-3)\r\n",
        "  model.compile(loss='mse', optimizer=optimizer)\r\n",
        "  return model"
      ],
      "execution_count": 24,
      "outputs": []
    },
    {
      "cell_type": "code",
      "metadata": {
        "id": "JgNIclThISdM"
      },
      "source": [
        "model = nvidia_model()\r\n",
        "print(model.summary())"
      ],
      "execution_count": null,
      "outputs": []
    },
    {
      "cell_type": "code",
      "metadata": {
        "id": "054AW0GYIAdj"
      },
      "source": [
        "history = model.fit_generator(batch_generator(X_train, y_train, 100, 1),\r\n",
        "                                  steps_per_epoch=300, \r\n",
        "                                  epochs=10,\r\n",
        "                                  validation_data=batch_generator(X_valid, y_valid, 100, 0),\r\n",
        "                                  validation_steps=200,\r\n",
        "                                  verbose=1,\r\n",
        "                                  shuffle = 1)"
      ],
      "execution_count": null,
      "outputs": []
    },
    {
      "cell_type": "code",
      "metadata": {
        "id": "LSddkj9gIATR"
      },
      "source": [
        "plt.plot(history.history['loss'])\r\n",
        "plt.plot(history.history['val_loss'])\r\n",
        "plt.legend(['training', 'validation'])\r\n",
        "plt.title('Loss')\r\n",
        "plt.xlabel('Epoch')"
      ],
      "execution_count": null,
      "outputs": []
    },
    {
      "cell_type": "code",
      "metadata": {
        "id": "ZOkKrsn5IV8X"
      },
      "source": [
        "model.save('model.h5')"
      ],
      "execution_count": null,
      "outputs": []
    }
  ]
}